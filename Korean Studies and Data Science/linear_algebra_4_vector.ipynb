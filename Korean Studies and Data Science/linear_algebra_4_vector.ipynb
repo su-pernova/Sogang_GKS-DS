{
  "nbformat": 4,
  "nbformat_minor": 0,
  "metadata": {
    "colab": {
      "name": "linear_algebra_4_vector.ipynb",
      "provenance": [],
      "collapsed_sections": []
    },
    "kernelspec": {
      "name": "python3",
      "display_name": "Python 3"
    }
  },
  "cells": [
    {
      "cell_type": "markdown",
      "metadata": {
        "id": "4_T_kTnwymK_",
        "colab_type": "text"
      },
      "source": [
        "#Ch.10 working with data\n",
        "\n",
        "depends on ***Linear Algebra***.\n",
        "\n",
        "Linear algebras is for Vector calculation and manipulation.\n",
        "\n",
        "Data are represented in vectors."
      ]
    },
    {
      "cell_type": "code",
      "metadata": {
        "id": "WTJzEAqty23A",
        "colab_type": "code",
        "outputId": "da8ccb5a-fc05-42f2-883d-13dce1779ad7",
        "colab": {
          "base_uri": "https://localhost:8080/",
          "height": 68
        }
      },
      "source": [
        "# students = [exam1, exam2, exam3, exam4]\n",
        "grades1 = [90.5, 80.2, 75, 62]\n",
        "grades2 = [92, 80, 69.4, 68]\n",
        "grades3 = [85, 81, 70, 72]\n",
        "\n",
        "print('g1:', grades1)\n",
        "print('g2:', grades2)\n",
        "print('g3:', grades3)"
      ],
      "execution_count": 0,
      "outputs": [
        {
          "output_type": "stream",
          "text": [
            "g1: [90.5, 80.2, 75, 62]\n",
            "g2: [92, 80, 69.4, 68]\n",
            "g3: [85, 81, 70, 72]\n"
          ],
          "name": "stdout"
        }
      ]
    },
    {
      "cell_type": "markdown",
      "metadata": {
        "id": "06EM-C_I2nfM",
        "colab_type": "text"
      },
      "source": [
        "##**Add**"
      ]
    },
    {
      "cell_type": "code",
      "metadata": {
        "id": "nvmkuqQKzdM2",
        "colab_type": "code",
        "outputId": "c391bbf6-8399-4299-846a-0cafddbe5a4d",
        "colab": {
          "base_uri": "https://localhost:8080/",
          "height": 51
        }
      },
      "source": [
        "Vector = list\n",
        "def add(v:Vector, w:Vector) -> Vector:\n",
        "  assert len(v) == len(w), \"vectors must be the same length\"\n",
        "  return [v_i + w_i for v_i,w_i in zip(v,w)]\n",
        "\n",
        "print(add([1,2],[2,1]))\n",
        "print(add(grades1, grades2))"
      ],
      "execution_count": 0,
      "outputs": [
        {
          "output_type": "stream",
          "text": [
            "[3, 3]\n",
            "[182.5, 160.2, 144.4, 130]\n"
          ],
          "name": "stdout"
        }
      ]
    },
    {
      "cell_type": "code",
      "metadata": {
        "id": "T9HogzAS2FAO",
        "colab_type": "code",
        "outputId": "537296ba-599a-453f-d000-d2771079679d",
        "colab": {
          "base_uri": "https://localhost:8080/",
          "height": 51
        }
      },
      "source": [
        "def add(v,w):\n",
        "  assert len(v) == len(w)\n",
        "  return [v_i + w_i for v_i,w_i in zip(v,w)]\n",
        "\n",
        "print(add([1,2],[2,1]))\n",
        "print(add(grades1, grades2))"
      ],
      "execution_count": 0,
      "outputs": [
        {
          "output_type": "stream",
          "text": [
            "[3, 3]\n",
            "[182.5, 160.2, 144.4, 130]\n"
          ],
          "name": "stdout"
        }
      ]
    },
    {
      "cell_type": "markdown",
      "metadata": {
        "id": "Q2puAOSC2qX-",
        "colab_type": "text"
      },
      "source": [
        "##**Subtract**"
      ]
    },
    {
      "cell_type": "code",
      "metadata": {
        "id": "F_dR6Ggt2lHt",
        "colab_type": "code",
        "outputId": "4d5787c9-c05d-4c9e-e7ba-d450ede5c0d4",
        "colab": {
          "base_uri": "https://localhost:8080/",
          "height": 68
        }
      },
      "source": [
        "def subtract(v:Vector, w:Vector) -> Vector:\n",
        "  assert len(v) == len(w)\n",
        "  return [v_i - w_i for v_i,w_i in zip(v,w)]\n",
        "\n",
        "print(subtract([1,2],[2,1]))\n",
        "print(subtract([5,7,9],[4,5,6]))\n",
        "print(subtract(grades1, grades2))"
      ],
      "execution_count": 0,
      "outputs": [
        {
          "output_type": "stream",
          "text": [
            "[-1, 1]\n",
            "[1, 2, 3]\n",
            "[-1.5, 0.20000000000000284, 5.599999999999994, -6]\n"
          ],
          "name": "stdout"
        }
      ]
    },
    {
      "cell_type": "code",
      "metadata": {
        "id": "FlcSmayZ2-J6",
        "colab_type": "code",
        "outputId": "67a1d1ca-e7ce-4c40-847e-ff3c69aff192",
        "colab": {
          "base_uri": "https://localhost:8080/",
          "height": 68
        }
      },
      "source": [
        "def subtract(v,w) :\n",
        "  assert len(v) == len(w)\n",
        "  return [v_i - w_i for v_i,w_i in zip(v,w)]\n",
        "\n",
        "print(subtract([1,2],[2,1]))\n",
        "print(subtract([5,7,9],[4,5,6]))\n",
        "print(subtract(grades1, grades2))"
      ],
      "execution_count": 0,
      "outputs": [
        {
          "output_type": "stream",
          "text": [
            "[-1, 1]\n",
            "[1, 2, 3]\n",
            "[-1.5, 0.20000000000000284, 5.599999999999994, -6]\n"
          ],
          "name": "stdout"
        }
      ]
    },
    {
      "cell_type": "markdown",
      "metadata": {
        "id": "I_nUbJaT3ZYb",
        "colab_type": "text"
      },
      "source": [
        "##**Sum**"
      ]
    },
    {
      "cell_type": "code",
      "metadata": {
        "id": "ZzqnOvPK3WGH",
        "colab_type": "code",
        "outputId": "07b4876b-8d17-49b0-dbdc-808c0d20fb99",
        "colab": {
          "base_uri": "https://localhost:8080/",
          "height": 51
        }
      },
      "source": [
        "#componentwise sum of vectors\n",
        "#def vector_sum(cectors:[Vector]) -> Vector : # type annotation\n",
        "def vector_sum(vectors): #No type annotation\n",
        "  assert vectors, \"no vectors provided\"\n",
        "  num_elements = len(vectors[0])\n",
        "  assert all(len(v)==num_elements for v in vectors), 'different sizes'\n",
        "  return [sum(vector[i] for vector in vectors) for i in range(num_elements)]\n",
        "\n",
        "#assert : 뒤에 나오는 것이 True인 경우\n",
        "assert vector_sum([[1,2], [3,4], [7,8]]) == [11,14]\n",
        "print('sum of g1, g2 =', vector_sum([grades1, grades2]))\n",
        "print('sum of g1, g2, g3 =', vector_sum([grades1, grades2, grades3]))"
      ],
      "execution_count": 0,
      "outputs": [
        {
          "output_type": "stream",
          "text": [
            "sum of g1, g2 = [182.5, 160.2, 144.4, 130]\n",
            "sum of g1, g2, g3 = [267.5, 241.2, 214.4, 202]\n"
          ],
          "name": "stdout"
        }
      ]
    },
    {
      "cell_type": "markdown",
      "metadata": {
        "id": "ssbTxoSk5lIg",
        "colab_type": "text"
      },
      "source": [
        "##**Multiply by a Scalar**"
      ]
    },
    {
      "cell_type": "code",
      "metadata": {
        "id": "WyMDwbp64DEZ",
        "colab_type": "code",
        "outputId": "1e536ad0-9bc8-45d4-c1e3-db4cc24f635c",
        "colab": {
          "base_uri": "https://localhost:8080/",
          "height": 51
        }
      },
      "source": [
        "#def scalar_multiply(c:float, v:Vector) -> Vector:\n",
        "#c가 스칼라곱의 곱수가 된다.\n",
        "def scalar_multiply(c,v): #No type annotation\n",
        "  return [c*v_i for v_i in v]\n",
        "\n",
        "assert scalar_multiply(0.5, [1,2]) == [0.5, 1.0], \"Never see this\"\n",
        "\n",
        "print(scalar_multiply(2,[1,2]))\n",
        "print(scalar_multiply(2,grades1))"
      ],
      "execution_count": 0,
      "outputs": [
        {
          "output_type": "stream",
          "text": [
            "[2, 4]\n",
            "[181.0, 160.4, 150, 124]\n"
          ],
          "name": "stdout"
        }
      ]
    },
    {
      "cell_type": "code",
      "metadata": {
        "id": "D6Db9SED6I-J",
        "colab_type": "code",
        "outputId": "16c6b550-51d4-4067-8db7-9f6b59c05865",
        "colab": {
          "base_uri": "https://localhost:8080/",
          "height": 51
        }
      },
      "source": [
        "#두 벡터의 평균값(mean) 구하기\n",
        "def vector_mean(vectors: [Vector]) -> Vector:\n",
        "  #def vector_mean(vectors):\n",
        "  n = len(vectors)\n",
        "  return scalar_multiply(1/n, vector_sum(vectors))\n",
        "\n",
        "print(vector_mean([grades1, grades2]))\n",
        "print(vector_mean([grades2, grades3]))"
      ],
      "execution_count": 0,
      "outputs": [
        {
          "output_type": "stream",
          "text": [
            "[91.25, 80.1, 72.2, 65.0]\n",
            "[88.5, 80.5, 69.7, 70.0]\n"
          ],
          "name": "stdout"
        }
      ]
    },
    {
      "cell_type": "markdown",
      "metadata": {
        "id": "3KaDnNg47NTc",
        "colab_type": "text"
      },
      "source": [
        "##**Dot Product**\n",
        "\n",
        "The dot product of two vectors is the sum of their componentwise multiplication.\n",
        "\n",
        "Formally : v1 ・ w1 + v2 ・ w2 + ... + vn ・ wn"
      ]
    },
    {
      "cell_type": "code",
      "metadata": {
        "id": "7AtjOs2b7J9l",
        "colab_type": "code",
        "outputId": "7802959a-c3a6-49ee-e7d1-3ba9b548d9aa",
        "colab": {
          "base_uri": "https://localhost:8080/",
          "height": 68
        }
      },
      "source": [
        "#def dot(v:Vector, w:Vector) -> float:\n",
        "def dot(v,w):\n",
        "  assert len(v) == len(w), \"vectors must be the same length\"\n",
        "  return sum(v_i*w_i for v_i, w_i in zip(v,w))\n",
        "\n",
        "print('dot p', dot([1,2,3], [4,5,6])) #(1*4) + (2*5) + (3*6)\n",
        "print('dot p', dot([1,2,3], [1,2,3])) #(1*1) + (2*2) + (3*3)\n",
        "print('dot p', dot([1,2], [1,1.5]) ) #(1*1) + (2*1.5)"
      ],
      "execution_count": 0,
      "outputs": [
        {
          "output_type": "stream",
          "text": [
            "dot p 32\n",
            "dot p 14\n",
            "dot p 4.0\n"
          ],
          "name": "stdout"
        }
      ]
    },
    {
      "cell_type": "markdown",
      "metadata": {
        "id": "wCGvwP1T8JaW",
        "colab_type": "text"
      },
      "source": [
        "##**Distance**\n",
        "\n",
        "The distance between two vectors, v and w.\n",
        "\n",
        "\n",
        ">**Process**\n",
        "\n",
        "1. subtract(v,w)\n",
        "2. sum of squares of subtract\n",
        "3. square root of sum of squares: squared_distance\n",
        "\n"
      ]
    },
    {
      "cell_type": "code",
      "metadata": {
        "id": "DG9RFag17z1X",
        "colab_type": "code",
        "outputId": "bdd857b9-ed9c-4946-89a1-7c7458b08e51",
        "colab": {
          "base_uri": "https://localhost:8080/",
          "height": 68
        }
      },
      "source": [
        "def sum_of_squares(v:Vector) -> float:\n",
        "  return dot(v,v) #한 벡터의 제곱된 값을 return\n",
        "\n",
        "def squared_distance(v,w):\n",
        "  return sum_of_squares(subtract(v,w))\n",
        "\n",
        "import math\n",
        "def distance(v:Vector, w:Vector) -> float:\n",
        "  return math.sqrt(squared_distance(v,w))\n",
        "\n",
        "print('subtract', subtract([1,2,3], [4,5,6]))\n",
        "print('squared distance', squared_distance([1,2,3], [4,5,6]))\n",
        "print('sqrt of squared d', distance([1,2,3], [4,5,6]))"
      ],
      "execution_count": 0,
      "outputs": [
        {
          "output_type": "stream",
          "text": [
            "subtract [-3, -3, -3]\n",
            "squared distance 27\n",
            "sqrt of squared d 5.196152422706632\n"
          ],
          "name": "stdout"
        }
      ]
    },
    {
      "cell_type": "markdown",
      "metadata": {
        "id": "SVZGucUhIPzn",
        "colab_type": "text"
      },
      "source": [
        "##**Quizzes**"
      ]
    },
    {
      "cell_type": "code",
      "metadata": {
        "id": "rJMWAnoK-RKz",
        "colab_type": "code",
        "colab": {}
      },
      "source": [
        "eojin = [92, 80, 69.4, 68]\n",
        "minki = [90.5, 80.2, 75, 62]\n",
        "sumi = [85, 81, 70, 72]"
      ],
      "execution_count": 0,
      "outputs": []
    },
    {
      "cell_type": "code",
      "metadata": {
        "id": "H7jFFfV2-W1W",
        "colab_type": "code",
        "outputId": "b1290d5b-35ed-4ba1-cd78-6a64caa790d7",
        "colab": {
          "base_uri": "https://localhost:8080/",
          "height": 122
        }
      },
      "source": [
        "print('means of exams',vector_mean([eojin, minki, sumi]))\n",
        "print('***e : eojin, m : minki, s : sumi***')\n",
        "print('how different btw e & m', distance(eojin, minki))\n",
        "print('how different btw e & s', distance(eojin, sumi))\n",
        "print('how different btw m & s', distance(minki, sumi))"
      ],
      "execution_count": 0,
      "outputs": [
        {
          "output_type": "stream",
          "text": [
            "means of exams [89.16666666666666, 80.39999999999999, 71.46666666666667, 67.33333333333333]\n",
            "***e : eojin, m : minki, s : sumi***\n",
            "how different btw e & m 8.345657553482525\n",
            "how different btw e & s 8.146164741766519\n",
            "how different btw m & s 12.485591696031069\n"
          ],
          "name": "stdout"
        }
      ]
    }
  ]
}