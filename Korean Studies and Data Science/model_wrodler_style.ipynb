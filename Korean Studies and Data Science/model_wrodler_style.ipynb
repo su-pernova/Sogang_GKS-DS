{
  "nbformat": 4,
  "nbformat_minor": 0,
  "metadata": {
    "colab": {
      "name": "model_wrodler_style.ipynb",
      "provenance": [],
      "collapsed_sections": []
    },
    "kernelspec": {
      "name": "python3",
      "display_name": "Python 3"
    }
  },
  "cells": [
    {
      "cell_type": "markdown",
      "metadata": {
        "id": "HOLZY0a7mDRm",
        "colab_type": "text"
      },
      "source": [
        "Date : 2020.03.31\n",
        "\n",
        "Writer : Sumi Kim\n",
        "\n",
        "Theme : Generative model of wrodler's fashion styles."
      ]
    },
    {
      "cell_type": "code",
      "metadata": {
        "id": "fEl1iGqzmLty",
        "colab_type": "code",
        "colab": {
          "base_uri": "https://localhost:8080/",
          "height": 34
        },
        "outputId": "33e672c8-27fd-4cb3-d8ca-9b63d3c4cd8c"
      },
      "source": [
        "#Sample observation of Wrodlers' fashions.\n",
        "datasets = {\n",
        "    0:[\"Round White ShirtScoopNeck Red ShortHairShortFlat\"],\n",
        "    1:[\"Round White Overall SilverGray ShortHairFrizzle\"],\n",
        "    2:[\"Sunglasses White ShirtScoopNeck Blonde ShortHairShortFlat\"],\n",
        "    3:[\"Round White ShirtScoopNeck Red LongHairStraight\"],\n",
        "    4:[\"Round White Overall SilverGray NoHair\"],\n",
        "    5:[\"Blank White Overall Black LongHairStraight\"],\n",
        "    6:[\"Sunglasses White Overall SilverGray LongHairStraight\"],\n",
        "    7:[\"Round White ShirtScoopNeck SilverGray ShortHairShortFlat\"],\n",
        "    8:[\"Round Pink Hoodie SilverGray LongHairStraight\"],\n",
        "    9:[\"Round PastelOrange ShirtScoopNeck Blonde LongHairStraight\"],\n",
        "    10:[\"Blank White Overall PastelPink ShortHairFrizzle\"],\n",
        "    11:[\"Sunglasses Gray01 Hoodie SilverGray NoHair\"],\n",
        "    12:[\"Round White ShirtScoopNeck SilverGray NoHair\"],\n",
        "    13:[\"Blank Gray01 Overall Black LongHairStraight\"],\n",
        "    14:[\"Round PastelGreen Hoodie Brown LongHairStraight\"],\n",
        "    15:[\"Sunglasses White ShirtScoopNeck SilverGray NoHair\"],\n",
        "    16:[\"Round Gray01 ShirtScoopNeck Black LongHairStraight\"],\n",
        "    17:[\"Blank Blue01 ShirtScoopNeck Brown ShortHairFrizzle\"],\n",
        "    18:[\"Sunglasses White Overall Brown ShortHairShortWaved\"],\n",
        "    19:[\"Round Blue01 Overall Red LongHairStraight\"],\n",
        "    20:[\"Blank White ShirtVNeck SilverGray NoHair\"],\n",
        "    21:[\"Round White ShirtScoopNeck Red LongHairStraight\"],\n",
        "    22:[\"Round Gray01 ShirtScoopNeck SilverGray LongHairCurly\"],\n",
        "    23:[\"Sunglasses PastelGreen ShirtScoopNeck SilverGray LongHairStraight\"],\n",
        "    24:[\"Sunglasses Blue01 Overall SilverGray ShortHairShortFlat\"],\n",
        "    25:[\"Round Pink Overall SilverGray ShortHairShortFlat\"],\n",
        "    26:[\"Blank White Hoodie Black LongHairStraight\"],\n",
        "    27:[\"Sunglasses White ShirtScoopNeck Black ShortHairFrizzle\"],\n",
        "    28:[\"Blank White ShirtScoopNeck Black ShortHairShortFlat\"],\n",
        "    29:[\"Sunglasses Red Overall SilverGray LongHairStraight\"],\n",
        "    30:[\"Sunglasses PastelGreen ShirtScoopNeck PastelPink LongHairStraight\"],\n",
        "    31:[\"Round White ShirtScoopNeck SilverGray ShortHairShortFlat\"],\n",
        "    32:[\"Blank Gray01 ShirtScoopNeck Red LongHairStraight\"],\n",
        "    33:[\"Round White Overall SilverGray LongHairStraight\"],\n",
        "    34:[\"Sunglasses Blue01 ShirtVNeck SilverGray LongHairStraight\"],\n",
        "    35:[\"Blank Gray01 Hoodie Red ShortHairFrizzle\"],\n",
        "    36:[\"Blank PastelGreen Overall PastelPink ShortHairShortFlat\"],\n",
        "    37:[\"Blank Pink Overall SilverGray NoHair\"],\n",
        "    38:[\"Sunglasses Pink ShirtScoopNeck Red ShortHairShortFlat\"],\n",
        "    39:[\"Round PastelOrange ShirtVNeck SilverGray LongHairStraight\"],\n",
        "    40:[\"Sunglasses Gray01 ShirtScoopNeck SilverGray ShortHairFrizzle\"],\n",
        "    41:[\"Sunglasses Pink ShirtVNeck SilverGray ShortHairShortFlat\"],\n",
        "    42:[\"Round Pink Hoodie SilverGray LongHairStraight\"],\n",
        "    43:[\"Round White Overall Black LongHairStraight\"],\n",
        "    44:[\"Round White Hoodie SilverGray LongHairStraight\"],\n",
        "    45:[\"Sunglasses White ShirtVNeck SilverGray LongHairStraight\"],\n",
        "    46:[\"Sunglasses Blue01 Overall SilverGray ShortHairFrizzle\"],\n",
        "    47:[\"Round PastelGreen Overall SilverGray NoHair\"],\n",
        "    48:[\"Sunglasses Gray01 ShirtVNeck SilverGray LongHairStraight\"],\n",
        "    49:[\"Round White Overall Red ShortHairShortFlat\"]\n",
        "}\n",
        "print(len(datasets))"
      ],
      "execution_count": 140,
      "outputs": [
        {
          "output_type": "stream",
          "text": [
            "50\n"
          ],
          "name": "stdout"
        }
      ]
    },
    {
      "cell_type": "markdown",
      "metadata": {
        "id": "hFLMS0-Um9Dn",
        "colab_type": "text"
      },
      "source": [
        "**Explore data**\n",
        "*   How many features are in a data item?\n",
        "*   How valid features are like? i.e., How unvalid features are like?\n",
        "*   How many valid data are possible with features?\n",
        "\n",
        "\n"
      ]
    },
    {
      "cell_type": "code",
      "metadata": {
        "id": "qSBFnOjrm_1N",
        "colab_type": "code",
        "colab": {
          "base_uri": "https://localhost:8080/",
          "height": 139
        },
        "outputId": "17b82770-a30a-4fc4-f730-0702290e2cee"
      },
      "source": [
        "#5 features to describe fashion styles\n",
        "accessariesType = \"Blank,Round,Sunglasses\".split(',')\n",
        "clothingColor = \"Blank,Blue01,Gray01,PastelGreen,PastelOrange,Pink,Red,White\".split(',')\n",
        "clothingType = \"Hoodie,Overall,ShirtScoopNeck,ShirtVNeck\".split(',')\n",
        "hairColor = \"Black,Blonde,Brown,PastelPink,Red,SilverGray\".split(',')\n",
        "topType = \"NoHair,LongHairBun,LongHairCurly,LongHairStraight,\\\n",
        "ShortHairShortWaved,ShortHairShortFlat,ShortHairFrizzle\".split(',')\n",
        "\n",
        "print(accessariesType)\n",
        "print(clothingColor)\n",
        "print(clothingType)\n",
        "print(hairColor)\n",
        "print(topType)\n",
        "\n",
        "#The number of the possible outcomes of fashion style is\n",
        "print(len(accessariesType)*len(clothingColor)*len(clothingType)*len(hairColor)*len(topType))"
      ],
      "execution_count": 141,
      "outputs": [
        {
          "output_type": "stream",
          "text": [
            "['Blank', 'Round', 'Sunglasses']\n",
            "['Blank', 'Blue01', 'Gray01', 'PastelGreen', 'PastelOrange', 'Pink', 'Red', 'White']\n",
            "['Hoodie', 'Overall', 'ShirtScoopNeck', 'ShirtVNeck']\n",
            "['Black', 'Blonde', 'Brown', 'PastelPink', 'Red', 'SilverGray']\n",
            "['NoHair', 'LongHairBun', 'LongHairCurly', 'LongHairStraight', 'ShortHairShortWaved', 'ShortHairShortFlat', 'ShortHairFrizzle']\n",
            "4032\n"
          ],
          "name": "stdout"
        }
      ]
    },
    {
      "cell_type": "markdown",
      "metadata": {
        "id": "U0Kzm6zrma_5",
        "colab_type": "text"
      },
      "source": [
        "**Check feature value validation**\n",
        "\n",
        "Feature values tend not to match in valid values. \n",
        "\n",
        "If there's nothing printed = successfully cleaned.\n"
      ]
    },
    {
      "cell_type": "code",
      "metadata": {
        "id": "dTX1jD4DmeXq",
        "colab_type": "code",
        "colab": {}
      },
      "source": [
        "#feature validation check\n",
        "#If it's an error, it wil be printed\n",
        "#nothing printed = successfully cleaned\n",
        "feature_values = [accessariesType, clothingColor, clothingType, hairColor, topType]\n",
        "for id, val in datasets.items():\n",
        "  #print(id, val)\n",
        "  features = val[0] #all have 1 element lists of features.\n",
        "  for i, feat in enumerate(features.split()):\n",
        "    #if i ==0 : print(id, i, feat)\n",
        "    for j, valid_feats in enumerate(feature_values):\n",
        "      if i == j and (feat not in valid_feats) : print(id, i, feat)"
      ],
      "execution_count": 0,
      "outputs": []
    },
    {
      "cell_type": "markdown",
      "metadata": {
        "id": "PJx4srsejY9P",
        "colab_type": "text"
      },
      "source": [
        "**What is the probability of new unseen style?**\n",
        "\n",
        "There are a lot of ways to do this."
      ]
    },
    {
      "cell_type": "code",
      "metadata": {
        "id": "Q8q9cPSVlwMs",
        "colab_type": "code",
        "colab": {
          "base_uri": "https://localhost:8080/",
          "height": 139
        },
        "outputId": "c98012d8-e3c1-4b82-e93f-42d239ea9413"
      },
      "source": [
        "from collections import Counter\n",
        "\n",
        "#make a list which contains every features exist in datasets\n",
        "every_feature = [] \n",
        "\n",
        "#append every features in the new list\n",
        "for id, val in datasets.items():\n",
        "  features = val[0].split()\n",
        "  for i in range(5):\n",
        "    every_feature.append(features[i])\n",
        "\n",
        "#count and get prob on every_feature list\n",
        "counts = Counter(every_feature)\n",
        "print(counts)\n",
        "tot = sum(counts.values())\n",
        "print('total number of features : ', tot,'\\n')\n",
        "probs = {k:(val/tot) for k, val in counts.items()}\n",
        "\n",
        "#print prob.table\n",
        "print('probs : ', probs)\n",
        "print('sum of probs : ', sum(probs.values()))\n",
        "print(round(sum(probs.values()),7)) #indefinite floating number"
      ],
      "execution_count": 143,
      "outputs": [
        {
          "output_type": "stream",
          "text": [
            "Counter({'SilverGray': 27, 'White': 23, 'LongHairStraight': 23, 'Round': 22, 'ShirtScoopNeck': 19, 'Overall': 18, 'Sunglasses': 17, 'ShortHairShortFlat': 11, 'Blank': 11, 'Red': 9, 'Gray01': 8, 'ShortHairFrizzle': 7, 'NoHair': 7, 'Black': 7, 'Hoodie': 7, 'Pink': 6, 'ShirtVNeck': 6, 'PastelGreen': 5, 'Blue01': 5, 'PastelPink': 3, 'Brown': 3, 'Blonde': 2, 'PastelOrange': 2, 'ShortHairShortWaved': 1, 'LongHairCurly': 1})\n",
            "total number of features :  250 \n",
            "\n",
            "probs :  {'Round': 0.088, 'White': 0.092, 'ShirtScoopNeck': 0.076, 'Red': 0.036, 'ShortHairShortFlat': 0.044, 'Overall': 0.072, 'SilverGray': 0.108, 'ShortHairFrizzle': 0.028, 'Sunglasses': 0.068, 'Blonde': 0.008, 'LongHairStraight': 0.092, 'NoHair': 0.028, 'Blank': 0.044, 'Black': 0.028, 'Pink': 0.024, 'Hoodie': 0.028, 'PastelOrange': 0.008, 'PastelPink': 0.012, 'Gray01': 0.032, 'PastelGreen': 0.02, 'Brown': 0.012, 'Blue01': 0.02, 'ShortHairShortWaved': 0.004, 'ShirtVNeck': 0.024, 'LongHairCurly': 0.004}\n",
            "sum of probs :  1.0000000000000002\n",
            "1.0\n"
          ],
          "name": "stdout"
        }
      ]
    },
    {
      "cell_type": "code",
      "metadata": {
        "id": "Vf-gkuC-m6ML",
        "colab_type": "code",
        "colab": {
          "base_uri": "https://localhost:8080/",
          "height": 68
        },
        "outputId": "14ebc4aa-529e-4ac4-9c41-0d0ff863f4f5"
      },
      "source": [
        "p_gl = 0.44 * 0.44 * 0.38 * 0.48 * 0.46\n",
        "print('from book table 1-2, new_1 : ', p_gl)\n",
        "\n",
        "new_1 = \"Round White ShirtScoopNeck SilverGray LongHairStraight\"\n",
        "new_2 = \"Blank Blue01 Hoodie Brown ShortHairShortFlat\"\n",
        "\n",
        "def prob_new(new):\n",
        "      prob = 1\n",
        "      new_features = new.split()\n",
        "      #calculate prob\n",
        "      for i in range(5): \n",
        "        x = probs.get(new_features[i])\n",
        "        prob *= x\n",
        "      #return prob value\n",
        "      return prob\n",
        "\n",
        "print('from our table, new_1 : ', prob_new(new_1))\n",
        "print('from our table, new_2 : ', prob_new(new_2))"
      ],
      "execution_count": 144,
      "outputs": [
        {
          "output_type": "stream",
          "text": [
            "from book table 1-2, new_1 :  0.0162438144\n",
            "from our table, new_1 :  6.113581055999998e-06\n",
            "from our table, new_2 :  1.3009919999999998e-08\n"
          ],
          "name": "stdout"
        }
      ]
    },
    {
      "cell_type": "markdown",
      "metadata": {
        "id": "9g_ZuM_L3gfo",
        "colab_type": "text"
      },
      "source": [
        "**Process of getting probs of new_1 and new_2**"
      ]
    },
    {
      "cell_type": "code",
      "metadata": {
        "id": "GmSu00sb1tSB",
        "colab_type": "code",
        "colab": {
          "base_uri": "https://localhost:8080/",
          "height": 272
        },
        "outputId": "c894718b-4598-460b-ae71-361c26ebf3d7"
      },
      "source": [
        "new_1 = \"Round White ShirtScoopNeck SilverGray LongHairStraight\"\n",
        "new_2 = \"Blank Blue01 Hoodie Brown ShortHairShortFlat\"\n",
        "\n",
        "def prob_process(new):\n",
        "      prob = 1\n",
        "      new_features = new.split()\n",
        "      #calculate prob\n",
        "      for i in range(5): \n",
        "        print('feature : ', new_features[i], '/ prob : ', probs.get(new_features[i]))\n",
        "        x = probs.get(new_features[i])\n",
        "        prob *= x\n",
        "      #return prob value\n",
        "      print ('prob of the style : ', prob)\n",
        "\n",
        "print(\"<Prob of new_1>\")\n",
        "prob_process(new_1)\n",
        "\n",
        "print(\"\\n<Prob of new_2>\")\n",
        "prob_process(new_2)"
      ],
      "execution_count": 145,
      "outputs": [
        {
          "output_type": "stream",
          "text": [
            "<Prob of new_1>\n",
            "feature :  Round / prob :  0.088\n",
            "feature :  White / prob :  0.092\n",
            "feature :  ShirtScoopNeck / prob :  0.076\n",
            "feature :  SilverGray / prob :  0.108\n",
            "feature :  LongHairStraight / prob :  0.092\n",
            "prob of the style :  6.113581055999998e-06\n",
            "\n",
            "<Prob of new_2>\n",
            "feature :  Blank / prob :  0.044\n",
            "feature :  Blue01 / prob :  0.02\n",
            "feature :  Hoodie / prob :  0.028\n",
            "feature :  Brown / prob :  0.012\n",
            "feature :  ShortHairShortFlat / prob :  0.044\n",
            "prob of the style :  1.3009919999999998e-08\n"
          ],
          "name": "stdout"
        }
      ]
    }
  ]
}