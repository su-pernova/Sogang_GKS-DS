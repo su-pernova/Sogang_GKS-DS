{
  "nbformat": 4,
  "nbformat_minor": 0,
  "metadata": {
    "colab": {
      "name": "Crash course.ipynb",
      "provenance": [],
      "collapsed_sections": []
    },
    "kernelspec": {
      "name": "python3",
      "display_name": "Python 3"
    }
  },
  "cells": [
    {
      "cell_type": "markdown",
      "metadata": {
        "id": "fm_wSRwqF4o0",
        "colab_type": "text"
      },
      "source": [
        "Date : 2020.03.27\n",
        "\n",
        "Writer : Sumi Kim\n",
        "\n",
        "Theme : Crash course"
      ]
    },
    {
      "cell_type": "markdown",
      "metadata": {
        "id": "R1rt1IawGFUB",
        "colab_type": "text"
      },
      "source": [
        "#**Crash course**\n",
        "\n",
        "**Whitespace formatting**\n",
        "\n",
        "With space chracters, tab characters\n",
        "\n",
        "Many editors(IDLE, VIM, COLAB, ...) automatically give identation in many cases.\n",
        "\n",
        "But when a program gets longer, be careful not tot use both mixed.\n"
      ]
    },
    {
      "cell_type": "code",
      "metadata": {
        "id": "69DtJnGFHN0T",
        "colab_type": "code",
        "colab": {
          "base_uri": "https://localhost:8080/",
          "height": 85
        },
        "outputId": "73c53c22-b8f2-42ae-9bb4-b7dbd6e39dca"
      },
      "source": [
        "for i in [1,2,3]:\n",
        "  print(i)\n",
        "\n",
        "while i<100:\n",
        "  i=i+1\n",
        "print(i)"
      ],
      "execution_count": 1,
      "outputs": [
        {
          "output_type": "stream",
          "text": [
            "1\n",
            "2\n",
            "3\n",
            "100\n"
          ],
          "name": "stdout"
        }
      ]
    },
    {
      "cell_type": "markdown",
      "metadata": {
        "id": "28aN5nPJHes8",
        "colab_type": "text"
      },
      "source": [
        "**Modules**\n",
        "\n",
        "If a module which you want to use is not loaded by default, import module-name to load."
      ]
    },
    {
      "cell_type": "code",
      "metadata": {
        "id": "3oEGkLrvHsVR",
        "colab_type": "code",
        "colab": {
          "base_uri": "https://localhost:8080/",
          "height": 1000
        },
        "outputId": "2cc27e4c-2a49-4156-9674-e440e3e4a830"
      },
      "source": [
        "import matplotlib.pyplot as plt\n",
        "dir(plt) # to see what functions and attributes are there."
      ],
      "execution_count": 2,
      "outputs": [
        {
          "output_type": "execute_result",
          "data": {
            "text/plain": [
              "['Annotation',\n",
              " 'Arrow',\n",
              " 'Artist',\n",
              " 'AutoLocator',\n",
              " 'Axes',\n",
              " 'Button',\n",
              " 'Circle',\n",
              " 'Figure',\n",
              " 'FigureCanvasBase',\n",
              " 'FixedFormatter',\n",
              " 'FixedLocator',\n",
              " 'FormatStrFormatter',\n",
              " 'Formatter',\n",
              " 'FuncFormatter',\n",
              " 'GridSpec',\n",
              " 'IndexLocator',\n",
              " 'Line2D',\n",
              " 'LinearLocator',\n",
              " 'Locator',\n",
              " 'LogFormatter',\n",
              " 'LogFormatterExponent',\n",
              " 'LogFormatterMathtext',\n",
              " 'LogLocator',\n",
              " 'MaxNLocator',\n",
              " 'MultipleLocator',\n",
              " 'Normalize',\n",
              " 'NullFormatter',\n",
              " 'NullLocator',\n",
              " 'Number',\n",
              " 'PolarAxes',\n",
              " 'Polygon',\n",
              " 'Rectangle',\n",
              " 'ScalarFormatter',\n",
              " 'Slider',\n",
              " 'Subplot',\n",
              " 'SubplotTool',\n",
              " 'Text',\n",
              " 'TickHelper',\n",
              " 'Widget',\n",
              " '_INSTALL_FIG_OBSERVER',\n",
              " '_IP_REGISTERED',\n",
              " '__builtins__',\n",
              " '__cached__',\n",
              " '__doc__',\n",
              " '__file__',\n",
              " '__loader__',\n",
              " '__name__',\n",
              " '__package__',\n",
              " '__spec__',\n",
              " '_auto_draw_if_interactive',\n",
              " '_backend_mod',\n",
              " '_get_running_interactive_framework',\n",
              " '_interactive_bk',\n",
              " '_log',\n",
              " '_pylab_helpers',\n",
              " '_setp',\n",
              " '_setup_pyplot_info_docstrings',\n",
              " '_show',\n",
              " 'acorr',\n",
              " 'angle_spectrum',\n",
              " 'annotate',\n",
              " 'arrow',\n",
              " 'autoscale',\n",
              " 'autumn',\n",
              " 'axes',\n",
              " 'axhline',\n",
              " 'axhspan',\n",
              " 'axis',\n",
              " 'axvline',\n",
              " 'axvspan',\n",
              " 'bar',\n",
              " 'barbs',\n",
              " 'barh',\n",
              " 'bone',\n",
              " 'box',\n",
              " 'boxplot',\n",
              " 'broken_barh',\n",
              " 'cbook',\n",
              " 'cla',\n",
              " 'clabel',\n",
              " 'clf',\n",
              " 'clim',\n",
              " 'close',\n",
              " 'cm',\n",
              " 'cohere',\n",
              " 'colorbar',\n",
              " 'colormaps',\n",
              " 'connect',\n",
              " 'contour',\n",
              " 'contourf',\n",
              " 'cool',\n",
              " 'copper',\n",
              " 'csd',\n",
              " 'cycler',\n",
              " 'dedent',\n",
              " 'delaxes',\n",
              " 'deprecated',\n",
              " 'disconnect',\n",
              " 'docstring',\n",
              " 'draw',\n",
              " 'draw_all',\n",
              " 'draw_if_interactive',\n",
              " 'errorbar',\n",
              " 'eventplot',\n",
              " 'figaspect',\n",
              " 'figimage',\n",
              " 'figlegend',\n",
              " 'fignum_exists',\n",
              " 'figtext',\n",
              " 'figure',\n",
              " 'fill',\n",
              " 'fill_between',\n",
              " 'fill_betweenx',\n",
              " 'findobj',\n",
              " 'flag',\n",
              " 'functools',\n",
              " 'gca',\n",
              " 'gcf',\n",
              " 'gci',\n",
              " 'get',\n",
              " 'get_backend',\n",
              " 'get_cmap',\n",
              " 'get_current_fig_manager',\n",
              " 'get_figlabels',\n",
              " 'get_fignums',\n",
              " 'get_plot_commands',\n",
              " 'get_scale_docs',\n",
              " 'get_scale_names',\n",
              " 'getp',\n",
              " 'ginput',\n",
              " 'gray',\n",
              " 'grid',\n",
              " 'hexbin',\n",
              " 'hist',\n",
              " 'hist2d',\n",
              " 'hlines',\n",
              " 'hot',\n",
              " 'hsv',\n",
              " 'importlib',\n",
              " 'imread',\n",
              " 'imsave',\n",
              " 'imshow',\n",
              " 'inferno',\n",
              " 'inspect',\n",
              " 'install_repl_displayhook',\n",
              " 'interactive',\n",
              " 'ioff',\n",
              " 'ion',\n",
              " 'isinteractive',\n",
              " 'jet',\n",
              " 'legend',\n",
              " 'locator_params',\n",
              " 'logging',\n",
              " 'loglog',\n",
              " 'magma',\n",
              " 'magnitude_spectrum',\n",
              " 'margins',\n",
              " 'matplotlib',\n",
              " 'matshow',\n",
              " 'minorticks_off',\n",
              " 'minorticks_on',\n",
              " 'mlab',\n",
              " 'new_figure_manager',\n",
              " 'nipy_spectral',\n",
              " 'np',\n",
              " 'pause',\n",
              " 'pcolor',\n",
              " 'pcolormesh',\n",
              " 'phase_spectrum',\n",
              " 'pie',\n",
              " 'pink',\n",
              " 'plasma',\n",
              " 'plot',\n",
              " 'plot_date',\n",
              " 'plotfile',\n",
              " 'plotting',\n",
              " 'polar',\n",
              " 'prism',\n",
              " 'psd',\n",
              " 'quiver',\n",
              " 'quiverkey',\n",
              " 'rc',\n",
              " 'rcParams',\n",
              " 'rcParamsDefault',\n",
              " 'rcParamsOrig',\n",
              " 'rc_context',\n",
              " 'rcdefaults',\n",
              " 'rcsetup',\n",
              " 're',\n",
              " 'register_cmap',\n",
              " 'rgrids',\n",
              " 'savefig',\n",
              " 'sca',\n",
              " 'scatter',\n",
              " 'sci',\n",
              " 'semilogx',\n",
              " 'semilogy',\n",
              " 'set_cmap',\n",
              " 'set_loglevel',\n",
              " 'setp',\n",
              " 'show',\n",
              " 'silent_list',\n",
              " 'specgram',\n",
              " 'spring',\n",
              " 'spy',\n",
              " 'stackplot',\n",
              " 'stem',\n",
              " 'step',\n",
              " 'streamplot',\n",
              " 'style',\n",
              " 'subplot',\n",
              " 'subplot2grid',\n",
              " 'subplot_tool',\n",
              " 'subplots',\n",
              " 'subplots_adjust',\n",
              " 'summer',\n",
              " 'suptitle',\n",
              " 'switch_backend',\n",
              " 'sys',\n",
              " 'table',\n",
              " 'text',\n",
              " 'thetagrids',\n",
              " 'tick_params',\n",
              " 'ticklabel_format',\n",
              " 'tight_layout',\n",
              " 'time',\n",
              " 'title',\n",
              " 'tricontour',\n",
              " 'tricontourf',\n",
              " 'tripcolor',\n",
              " 'triplot',\n",
              " 'twinx',\n",
              " 'twiny',\n",
              " 'uninstall_repl_displayhook',\n",
              " 'violinplot',\n",
              " 'viridis',\n",
              " 'vlines',\n",
              " 'waitforbuttonpress',\n",
              " 'warn_deprecated',\n",
              " 'winter',\n",
              " 'xcorr',\n",
              " 'xkcd',\n",
              " 'xlabel',\n",
              " 'xlim',\n",
              " 'xscale',\n",
              " 'xticks',\n",
              " 'ylabel',\n",
              " 'ylim',\n",
              " 'yscale',\n",
              " 'yticks']"
            ]
          },
          "metadata": {
            "tags": []
          },
          "execution_count": 2
        }
      ]
    },
    {
      "cell_type": "markdown",
      "metadata": {
        "id": "McPRJ7RCH4dh",
        "colab_type": "text"
      },
      "source": [
        "**Functions**\n",
        "\n",
        "0. built-in functions are simply available to use. (print(), sum(),...)\n",
        "\n",
        "1. user define functions have 2 steps\n",
        "> *   define a function with its parameters and return which are optional\n",
        "> *   call the defined function.\n",
        "\n",
        "2. labmda function = anonymous function\n",
        ">* 1 line of definition without a specific name\n",
        ">* call it.\n",
        "\n"
      ]
    },
    {
      "cell_type": "code",
      "metadata": {
        "id": "RbiaVS3pImI9",
        "colab_type": "code",
        "colab": {
          "base_uri": "https://localhost:8080/",
          "height": 102
        },
        "outputId": "b556e00d-b0f8-4aa1-b5f3-1f7f4949f0df"
      },
      "source": [
        "#0\n",
        "var = sum([1,2,3])\n",
        "print('default func, sum', var)\n",
        "\n",
        "#1\n",
        "def my_sum(a_list):\n",
        "  ret_val = 0\n",
        "  for a in a_list:\n",
        "    ret_val = ret_val + a\n",
        "  return ret_val\n",
        "\n",
        "ret = my_sum([1,2,3])\n",
        "print('returned from my_sum', ret)\n",
        "print('another example', my_sum([4,5,6]))\n",
        "\n",
        "#2\n",
        "who_sums = lambda x:sum(x)\n",
        "print('1 line function', who_sums([2,3,4]))\n",
        "print('another example', who_sums([10,10,10]))"
      ],
      "execution_count": 3,
      "outputs": [
        {
          "output_type": "stream",
          "text": [
            "default func, sum 6\n",
            "returned from my_sum 6\n",
            "another example 15\n",
            "1 line function 9\n",
            "another example 30\n"
          ],
          "name": "stdout"
        }
      ]
    },
    {
      "cell_type": "code",
      "metadata": {
        "id": "WUaqErsMJOpp",
        "colab_type": "code",
        "colab": {
          "base_uri": "https://localhost:8080/",
          "height": 272
        },
        "outputId": "5b8bbda8-948d-4830-c68e-e06d56e23b88"
      },
      "source": [
        "str1 = 'data & ai'\n",
        "str2 = \"data&ai\"\n",
        "str3 = \"\"\"data\n",
        "& ai\"\"\"\n",
        "\n",
        "''' # new line between ' ' , \" \" makes error\n",
        "str4 =' data\n",
        "& ai'\n",
        "'''\n",
        "\n",
        "str4 = '{0}, {1}' .format('name', 'familt name')\n",
        "str5 = '%s %s' %('Joel', 'Grus')\n",
        "\n",
        "print('str1', str1)\n",
        "print('str2', str2)\n",
        "print('str3', str3)\n",
        "print('str4', str4)\n",
        "print('str5', str5)\n",
        "\n",
        "for i in range(len(str5)):\n",
        "  if str5[i] != '  ' : print(str5[i])"
      ],
      "execution_count": 7,
      "outputs": [
        {
          "output_type": "stream",
          "text": [
            "str1 data & ai\n",
            "str2 data&ai\n",
            "str3 data\n",
            "& ai\n",
            "str4 name, familt name\n",
            "str5 Joel Grus\n",
            "J\n",
            "o\n",
            "e\n",
            "l\n",
            " \n",
            "G\n",
            "r\n",
            "u\n",
            "s\n"
          ],
          "name": "stdout"
        }
      ]
    },
    {
      "cell_type": "code",
      "metadata": {
        "id": "lKzKISyQKHh2",
        "colab_type": "code",
        "colab": {
          "base_uri": "https://localhost:8080/",
          "height": 170
        },
        "outputId": "9b772e78-5420-489e-e361-bcc2b2ec76e3"
      },
      "source": [
        "#sequence data\n",
        "list1 = [str1, str2, str3]\n",
        "dict1 = {str1:1, str2:2.0, str3:3, str1:4} # 4 pairs given\n",
        "tup1 = (str1, str2, str3)\n",
        "set1 = {str1, str2, str1} # 3 elements\n",
        "\n",
        "print('list', list1)\n",
        "print('tuple', tup1)\n",
        "print('dict', dict1)\n",
        "print('set', set1)\n",
        "\n",
        "#Boolean type\n",
        "print('bool', str1==str2)\n",
        "if True == 1:\n",
        "  print('bool true is 1')\n",
        "  print(False == 0)\n",
        "\n",
        "  #numeric type\n",
        "  print('numeric', 1, 2.0)\n",
        "  print('numeric :%d %f' %(1, 2.0)) #format string"
      ],
      "execution_count": 9,
      "outputs": [
        {
          "output_type": "stream",
          "text": [
            "list ['data & ai', 'data&ai', 'data\\n& ai']\n",
            "tuple ('data & ai', 'data&ai', 'data\\n& ai')\n",
            "dict {'data & ai': 4, 'data&ai': 2.0, 'data\\n& ai': 3}\n",
            "set {'data & ai', 'data&ai'}\n",
            "bool False\n",
            "bool true is 1\n",
            "True\n",
            "numeric 1 2.0\n",
            "numeric :1 2.000000\n"
          ],
          "name": "stdout"
        }
      ]
    },
    {
      "cell_type": "markdown",
      "metadata": {
        "id": "O5_KpzENLmsd",
        "colab_type": "text"
      },
      "source": [
        "to see what data type of variable is : **type()**"
      ]
    },
    {
      "cell_type": "code",
      "metadata": {
        "id": "DlQHMmeqLr9k",
        "colab_type": "code",
        "colab": {
          "base_uri": "https://localhost:8080/",
          "height": 153
        },
        "outputId": "e25747f2-384b-43b2-a11f-04395dc9a9ac"
      },
      "source": [
        "checks = [str1, list1, dict1, tup1, set1, str1==str2, 1, 2.0]\n",
        "for each in checks:\n",
        "  print(type(each)) #type(param) returns the type of param"
      ],
      "execution_count": 11,
      "outputs": [
        {
          "output_type": "stream",
          "text": [
            "<class 'str'>\n",
            "<class 'list'>\n",
            "<class 'dict'>\n",
            "<class 'tuple'>\n",
            "<class 'set'>\n",
            "<class 'bool'>\n",
            "<class 'int'>\n",
            "<class 'float'>\n"
          ],
          "name": "stdout"
        }
      ]
    },
    {
      "cell_type": "markdown",
      "metadata": {
        "id": "4MDBvL9UMAPv",
        "colab_type": "text"
      },
      "source": [
        "**Numeric operators**"
      ]
    },
    {
      "cell_type": "code",
      "metadata": {
        "id": "zrhr7MImMEsT",
        "colab_type": "code",
        "colab": {
          "base_uri": "https://localhost:8080/",
          "height": 102
        },
        "outputId": "44baa9e2-31b2-4cb6-9722-e1b47ed7e590"
      },
      "source": [
        "print(3+2, 3-2) # plus, minus\n",
        "print(3*2, 3**2) # multiply, square\n",
        "print(10/3) # returns float\n",
        "print(10//3) #returns integer\n",
        "print(10%3) #returns remaining"
      ],
      "execution_count": 12,
      "outputs": [
        {
          "output_type": "stream",
          "text": [
            "5 1\n",
            "6 9\n",
            "3.3333333333333335\n",
            "3\n",
            "1\n"
          ],
          "name": "stdout"
        }
      ]
    },
    {
      "cell_type": "markdown",
      "metadata": {
        "id": "7EmNFqNXMeIy",
        "colab_type": "text"
      },
      "source": [
        "**Various usages of sequence data**"
      ]
    },
    {
      "cell_type": "code",
      "metadata": {
        "id": "htDwIpwMMiH0",
        "colab_type": "code",
        "colab": {
          "base_uri": "https://localhost:8080/",
          "height": 221
        },
        "outputId": "e592d453-10e9-401f-c92e-edc7f6ff0d77"
      },
      "source": [
        "str1 = 'a'\n",
        "str2 = 'b'\n",
        "str3 = str1 + str2\n",
        "print(str3)\n",
        "\n",
        "list2 = [1,2,3]\n",
        "list2.append(1) #add 1 in the end\n",
        "print(list2)\n",
        "list2.extend(list2) #extend another list\n",
        "print('extended', list2)\n",
        "list2.clear()\n",
        "print('cleared', list2)\n",
        "\n",
        "#tupl[1] = 2\n",
        "#makes error\n",
        "print('str1 : ', str1, ', str2 : ', str2)\n",
        "str1, str2 = str2, str1 #swapped\n",
        "print('str1 : ', str1, ', str2 : ', str2)\n",
        "\n",
        "print(dict1)\n",
        "print(dict1.keys()) #keys only\n",
        "print(dict1.values()) #values only\n",
        "print(dict1.items()) #key-value pairs\n",
        "print(dict1.get('data&ai', 'none'))\n",
        "print(dict1.get('Joel', 'none')) #if there's no key"
      ],
      "execution_count": 13,
      "outputs": [
        {
          "output_type": "stream",
          "text": [
            "ab\n",
            "[1, 2, 3, 1]\n",
            "extended [1, 2, 3, 1, 1, 2, 3, 1]\n",
            "cleared []\n",
            "str1 :  a , str2 :  b\n",
            "str1 :  b , str2 :  a\n",
            "{'data & ai': 4, 'data&ai': 2.0, 'data\\n& ai': 3}\n",
            "dict_keys(['data & ai', 'data&ai', 'data\\n& ai'])\n",
            "dict_values([4, 2.0, 3])\n",
            "dict_items([('data & ai', 4), ('data&ai', 2.0), ('data\\n& ai', 3)])\n",
            "2.0\n",
            "none\n"
          ],
          "name": "stdout"
        }
      ]
    },
    {
      "cell_type": "code",
      "metadata": {
        "id": "rlc6b-H-NpKC",
        "colab_type": "code",
        "colab": {
          "base_uri": "https://localhost:8080/",
          "height": 136
        },
        "outputId": "e46cfbb2-32c1-45ac-eda7-f5fad313260a"
      },
      "source": [
        "x = [4,1,2,3]\n",
        "y = sorted(x)\n",
        "\n",
        "print(y)\n",
        "print(x)\n",
        "print(x.sort()) #returns none\n",
        "print(x)\n",
        "\n",
        "x.sort(reverse=True)\n",
        "print(x)\n",
        "\n",
        "dict1 = {'b':4, 'a':2.0, 'ab':3} #edit current dict1 for results\n",
        "print(dict1)\n",
        "#dictionary keys could not be sorted since not saved in order\n",
        "#sorted_dict1 = dict1.sort(key=lambda each:each[1])\n",
        "sorted_dict1 = sorted(dict1.items(), key=lambda each:each[1])\n",
        "print(sorted_dict1)"
      ],
      "execution_count": 16,
      "outputs": [
        {
          "output_type": "stream",
          "text": [
            "[1, 2, 3, 4]\n",
            "[4, 1, 2, 3]\n",
            "None\n",
            "[1, 2, 3, 4]\n",
            "[4, 3, 2, 1]\n",
            "{'b': 4, 'a': 2.0, 'ab': 3}\n",
            "[('a', 2.0), ('ab', 3), ('b', 4)]\n"
          ],
          "name": "stdout"
        }
      ]
    },
    {
      "cell_type": "markdown",
      "metadata": {
        "id": "oXnhBrjbQPH1",
        "colab_type": "text"
      },
      "source": [
        "#**Not so basics**\n",
        "\n",
        "**List comprehension ',' and '_'**"
      ]
    },
    {
      "cell_type": "code",
      "metadata": {
        "id": "hvkqyB8WPUcd",
        "colab_type": "code",
        "colab": {
          "base_uri": "https://localhost:8080/",
          "height": 102
        },
        "outputId": "a76054b1-b551-49c8-ae9b-d5742850624e"
      },
      "source": [
        "even_numbers = [x for x in range(10) if x%2 == 0]\n",
        "print(even_numbers)\n",
        "\n",
        "even_numbers2 = []\n",
        "for x in range(10):\n",
        "  if x%2 == 0:\n",
        "    even_numbers2.append(x)\n",
        "print(even_numbers2)\n",
        "\n",
        "square_dict = {x:x*x for x in range(10)}\n",
        "print(square_dict)\n",
        "\n",
        "square_dict2 = {}\n",
        "for x in range(10):\n",
        "  square_dict2[x] = x*x\n",
        "print(square_dict2)\n",
        "\n",
        "#anonynous variavle\n",
        "for _ in range(10) : print(_, end = ',')"
      ],
      "execution_count": 18,
      "outputs": [
        {
          "output_type": "stream",
          "text": [
            "[0, 2, 4, 6, 8]\n",
            "[0, 2, 4, 6, 8]\n",
            "{0: 0, 1: 1, 2: 4, 3: 9, 4: 16, 5: 25, 6: 36, 7: 49, 8: 64, 9: 81}\n",
            "{0: 0, 1: 1, 2: 4, 3: 9, 4: 16, 5: 25, 6: 36, 7: 49, 8: 64, 9: 81}\n",
            "0,1,2,3,4,5,6,7,8,9,"
          ],
          "name": "stdout"
        }
      ]
    },
    {
      "cell_type": "markdown",
      "metadata": {
        "id": "nDmKyF0hQb0W",
        "colab_type": "text"
      },
      "source": [
        "**OOP & class**\n",
        "\n",
        "To encapsulate data and the fuctions that operate them, we create a class of it."
      ]
    },
    {
      "cell_type": "code",
      "metadata": {
        "id": "UbrLqbzeQimh",
        "colab_type": "code",
        "colab": {
          "base_uri": "https://localhost:8080/",
          "height": 85
        },
        "outputId": "b0383b8b-47e2-4ddc-d8ae-5cc1cd05f683"
      },
      "source": [
        "class CountingClicker:\n",
        "  def __init__(self, count=0): #constructor\n",
        "    self.count = count\n",
        "  \n",
        "  def click(self, num_times=1):\n",
        "    self.count += num_times\n",
        "\n",
        "  def read(self):\n",
        "    return self.count\n",
        "\n",
        "  def reset(self):\n",
        "    self.count = 0\n",
        "\n",
        "  def nomember(): #why self shoud be specified\n",
        "    print('you should not see this')  \n",
        "\n",
        "a_clicker = CountingClicker( )\n",
        "a_clicker.click()\n",
        "print(a_clicker.read())\n",
        "a_clicker.click(3)\n",
        "print(a_clicker.read())\n",
        "a_clicker.reset()\n",
        "print(a_clicker.read())\n",
        "print(type(a_clicker))\n",
        "#a_clicker.nomember"
      ],
      "execution_count": 29,
      "outputs": [
        {
          "output_type": "stream",
          "text": [
            "1\n",
            "4\n",
            "0\n",
            "<class '__main__.CountingClicker'>\n"
          ],
          "name": "stdout"
        }
      ]
    },
    {
      "cell_type": "markdown",
      "metadata": {
        "id": "7u9LYokuTX9D",
        "colab_type": "text"
      },
      "source": [
        "**Class ingeritance**\n",
        "\n",
        "Reuse the existing class and redefine only different parts."
      ]
    },
    {
      "cell_type": "code",
      "metadata": {
        "id": "fBFgD6r8TfXp",
        "colab_type": "code",
        "colab": {
          "base_uri": "https://localhost:8080/",
          "height": 68
        },
        "outputId": "20c99593-1c26-42c0-bb9a-f4f16eac37ae"
      },
      "source": [
        "class NoResetClicker(CountingClicker):\n",
        "  def reset(self): #redefined not to reset\n",
        "    pass\n",
        "\n",
        "a_clicker2 = NoResetClicker()\n",
        "print(a_clicker2.read())\n",
        "a_clicker2.click()\n",
        "a_clicker2.click(2)\n",
        "print(a_clicker2.read())\n",
        "a_clicker2.reset()\n",
        "print(a_clicker2.read())"
      ],
      "execution_count": 30,
      "outputs": [
        {
          "output_type": "stream",
          "text": [
            "0\n",
            "3\n",
            "3\n"
          ],
          "name": "stdout"
        }
      ]
    },
    {
      "cell_type": "markdown",
      "metadata": {
        "id": "MDsYLU3HT7wo",
        "colab_type": "text"
      },
      "source": [
        "**Randomness**\n",
        "\n",
        "* random.random() : generates float numbers\n",
        "\n",
        "* random.shuffle(list) : reorders list\n",
        "\n",
        "* random.choice(list) : chooses one"
      ]
    },
    {
      "cell_type": "code",
      "metadata": {
        "id": "M_FfeZByURaV",
        "colab_type": "code",
        "colab": {
          "base_uri": "https://localhost:8080/",
          "height": 122
        },
        "outputId": "5b262e5c-4a47-4073-ae08-caaad6d7f836"
      },
      "source": [
        "import random\n",
        "\n",
        "print(random.random())\n",
        "random_list = [random.random() for _ in range(5)]\n",
        "print(random_list)\n",
        "\n",
        "#randomly reorders the elements of a list\n",
        "up_to_10 = [i for i in range(10)]\n",
        "print(up_to_10)\n",
        "random.shuffle(up_to_10)\n",
        "print(up_to_10)\n",
        "print(random.choice(range(10)))"
      ],
      "execution_count": 31,
      "outputs": [
        {
          "output_type": "stream",
          "text": [
            "0.7928553071091544\n",
            "[0.0506251934073737, 0.46025163526535273, 0.5735482969327408, 0.10254846980705234, 0.7399598716991957]\n",
            "[0, 1, 2, 3, 4, 5, 6, 7, 8, 9]\n",
            "[8, 6, 4, 2, 5, 3, 0, 7, 1, 9]\n",
            "3\n"
          ],
          "name": "stdout"
        }
      ]
    },
    {
      "cell_type": "code",
      "metadata": {
        "id": "r4IwcUOpUxmK",
        "colab_type": "code",
        "colab": {
          "base_uri": "https://localhost:8080/",
          "height": 139
        },
        "outputId": "aa9e78f6-7f4f-4525-9fd4-01a1817757c0"
      },
      "source": [
        "#If you want to generate the same number every time\n",
        "random.seed(10)\n",
        "print(random.random())\n",
        "random_list = [random.random() for _ in range(5)]\n",
        "print(random_list)\n",
        "\n",
        "#randomly reorders the elements of a list\n",
        "up_to_10 = [i for i in range(10)]\n",
        "print(up_to_10)\n",
        "random.shuffle(up_to_10)\n",
        "print(up_to_10)\n",
        "print(random.choice(range(10)))\n",
        "import datetime\n",
        "print(datetime.datetime.now())"
      ],
      "execution_count": 33,
      "outputs": [
        {
          "output_type": "stream",
          "text": [
            "0.5714025946899135\n",
            "[0.4288890546751146, 0.5780913011344704, 0.20609823213950174, 0.81332125135732, 0.8235888725334455]\n",
            "[0, 1, 2, 3, 4, 5, 6, 7, 8, 9]\n",
            "[3, 4, 5, 6, 1, 8, 9, 7, 0, 2]\n",
            "2\n",
            "2020-03-27 14:11:29.793365\n"
          ],
          "name": "stdout"
        }
      ]
    },
    {
      "cell_type": "markdown",
      "metadata": {
        "id": "MAs-6gYAVYpi",
        "colab_type": "text"
      },
      "source": [
        "**Generators, Iterables : zip, enumerate**"
      ]
    },
    {
      "cell_type": "code",
      "metadata": {
        "id": "YWl68gzYVctU",
        "colab_type": "code",
        "colab": {
          "base_uri": "https://localhost:8080/",
          "height": 187
        },
        "outputId": "bdb545a1-707d-4432-ce40-5a9e75a4e8f5"
      },
      "source": [
        "list1 = [1,2,3]\n",
        "list2 = ['a', 'b', 'c']\n",
        "print(zip(list1, list2)) #returns zip object\n",
        "#zip is called sort of a generator which generates their values lazilly on demand\n",
        "#zip doesn't generate unril you iterate over it\n",
        "for a in zip(list1, list2):\n",
        "  print(a)\n",
        "\n",
        "zipped_list = [a for a in zip(list1, list2)]\n",
        "print(zipped_list)\n",
        "\n",
        "print(enumerate(list2)) #returns enumerate object\n",
        "#enumerate is also a generator which generates their claues lazilly\n",
        "for a, i in enumerate(list2):\n",
        "  print(a, i)\n",
        "enum_list = [(a,i) for a, i in enumerate(list2)]\n",
        "print(enum_list)"
      ],
      "execution_count": 35,
      "outputs": [
        {
          "output_type": "stream",
          "text": [
            "<zip object at 0x7f7b2130ad48>\n",
            "(1, 'a')\n",
            "(2, 'b')\n",
            "(3, 'c')\n",
            "[(1, 'a'), (2, 'b'), (3, 'c')]\n",
            "<enumerate object at 0x7f7b212b8ee8>\n",
            "0 a\n",
            "1 b\n",
            "2 c\n",
            "[(0, 'a'), (1, 'b'), (2, 'c')]\n"
          ],
          "name": "stdout"
        }
      ]
    },
    {
      "cell_type": "markdown",
      "metadata": {
        "id": "4ct7sbhlWVje",
        "colab_type": "text"
      },
      "source": [
        "**Assert, type annotations**\n",
        "\n",
        "To be confident our code is correct. Let something make sure it is true."
      ]
    },
    {
      "cell_type": "code",
      "metadata": {
        "id": "YbWTcQ1wWYzz",
        "colab_type": "code",
        "colab": {
          "base_uri": "https://localhost:8080/",
          "height": 68
        },
        "outputId": "9de7b11e-e2bf-4bea-a9bc-804032da7439"
      },
      "source": [
        "assert True==True, \"This must no be seen\"\n",
        "#assert True==False, \"This must be seen and stops here\"\n",
        "assert len(list1)==len(list2), \"Two lists must be same\"\n",
        "for i in range(len(list1)):\n",
        "  print(list1[i], list2[i])"
      ],
      "execution_count": 42,
      "outputs": [
        {
          "output_type": "stream",
          "text": [
            "1 a\n",
            "2 b\n",
            "3 c\n"
          ],
          "name": "stdout"
        }
      ]
    },
    {
      "cell_type": "code",
      "metadata": {
        "id": "k1nM1g84W3wX",
        "colab_type": "code",
        "colab": {
          "base_uri": "https://localhost:8080/",
          "height": 68
        },
        "outputId": "9b1a8f99-6273-43cf-cc25-195ad2315c85"
      },
      "source": [
        "def add(a,b):\n",
        "  return a+b\n",
        "print(add('hi ', 'there'))\n",
        "print(add(20, 19))\n",
        "print(add('20', '19'))\n",
        "#print(add('hi', 5))"
      ],
      "execution_count": 43,
      "outputs": [
        {
          "output_type": "stream",
          "text": [
            "hi there\n",
            "39\n",
            "2019\n"
          ],
          "name": "stdout"
        }
      ]
    },
    {
      "cell_type": "code",
      "metadata": {
        "id": "kRIyN6c6XJ4P",
        "colab_type": "code",
        "colab": {
          "base_uri": "https://localhost:8080/",
          "height": 85
        },
        "outputId": "3c1ab39a-4cf6-44f7-c578-7563ebbfee67"
      },
      "source": [
        "def add(a:int, b:int) -> int:\n",
        "  return a+b\n",
        "\n",
        "def concat(a:str, b:str) ->str:\n",
        "  assert type(a)==str, 'make sure data type is str'\n",
        "  assert type(b)==str, 'make sure data type is str'\n",
        "  return a+b\n",
        "\n",
        "print(concat('hi ', 'there'))\n",
        "print(add(20,19))\n",
        "print(concat('20', '19'))\n",
        "print(concat('hi', '5'))"
      ],
      "execution_count": 45,
      "outputs": [
        {
          "output_type": "stream",
          "text": [
            "hi there\n",
            "39\n",
            "2019\n",
            "hi5\n"
          ],
          "name": "stdout"
        }
      ]
    },
    {
      "cell_type": "markdown",
      "metadata": {
        "id": "ZlGUQihHYCrX",
        "colab_type": "text"
      },
      "source": [
        "**Exceptions**\n",
        "\n",
        "To avoid a stop, try to do..."
      ]
    },
    {
      "cell_type": "code",
      "metadata": {
        "id": "B2nz3Ng2YG26",
        "colab_type": "code",
        "colab": {
          "base_uri": "https://localhost:8080/",
          "height": 85
        },
        "outputId": "40e7bfc1-972a-4bbc-f85d-7f6d596c75f0"
      },
      "source": [
        "def add(a:int, b:int) -> int:\n",
        "  return a+b\n",
        "def concat(a:str, b:str) ->str:\n",
        "  assert type(a)==str, 'make sure data type is str'\n",
        "  assert type(b)==str, 'make sure data type is str'\n",
        "  return a+b\n",
        "\n",
        "try:\n",
        "  print(concat('hi ', 'there'))\n",
        "  print(add(20,19))\n",
        "  print(concat('20', '19'))\n",
        "  print(concat('hi', 5))\n",
        "except Exception as e:\n",
        "  print('error: ', e)"
      ],
      "execution_count": 46,
      "outputs": [
        {
          "output_type": "stream",
          "text": [
            "hi there\n",
            "39\n",
            "2019\n",
            "error:  make sure data type is str\n"
          ],
          "name": "stdout"
        }
      ]
    }
  ]
}